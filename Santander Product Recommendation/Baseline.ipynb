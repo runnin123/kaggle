{
  "nbformat": 4,
  "nbformat_minor": 0,
  "metadata": {
    "colab": {
      "name": "Baseline.ipynb",
      "provenance": [],
      "machine_shape": "hm"
    },
    "kernelspec": {
      "name": "python3",
      "display_name": "Python 3"
    }
  },
  "cells": [
    {
      "cell_type": "markdown",
      "metadata": {
        "id": "V-B9Fzy_wSuw"
      },
      "source": [
        "## Tabular 데이터 캐글 머신러닝 파이프라인\n",
        "1. 데이터 전처리\n",
        "2. 피처 엔지니어링\n",
        "3. 머신러닝 모델 학습\n",
        "4. 테스트 데이터 예측 및 캐글 업로드"
      ]
    },
    {
      "cell_type": "markdown",
      "metadata": {
        "id": "UbW2ZRsI07NN"
      },
      "source": [
        "## 1. 데이터 전처리\n",
        "- 제품 변수 결측값 → 0으로 대체   \n",
        "제품 보유 여부에 대한 정보가 없을 경우 보유하고 있지 않다고 가정\n",
        "- 훈련 데이터와 테스트 데이터 통합\n",
        "- 범주형, 수치형 데이터 전처리   \n",
        "범주형 데이터 → .factorize() → 라벨 인코딩   \n",
        "object 타입 수치형 데이터 → .unique() → 특이값 대체 또는 제거 후 정수형 변환\n",
        "- 모델 학습에 사용할 변수 이름 → features 리스트에 미리 담기"
      ]
    },
    {
      "cell_type": "markdown",
      "metadata": {
        "id": "igUR6vve2kOS"
      },
      "source": [
        "### 1-1. 데이터 준비"
      ]
    },
    {
      "cell_type": "code",
      "metadata": {
        "id": "0jjZDX1YwRXt"
      },
      "source": [
        "import pandas as pd\n",
        "import numpy as np\n",
        "import xgboost as xgb"
      ],
      "execution_count": 3,
      "outputs": []
    },
    {
      "cell_type": "code",
      "metadata": {
        "id": "_4BVJsXx2DXm"
      },
      "source": [
        "np.random.seed(2018)"
      ],
      "execution_count": 4,
      "outputs": []
    },
    {
      "cell_type": "code",
      "metadata": {
        "colab": {
          "base_uri": "https://localhost:8080/"
        },
        "id": "vPbJmn-q2F6X",
        "outputId": "76a1da4d-7d82-40db-c656-ef3aedceabf3"
      },
      "source": [
        "# 데이터 로드\n",
        "trn = pd.read_csv('/content/drive/MyDrive/kaggle/santander/data/train_ver2.csv')\n",
        "tst = pd.read_csv('/content/drive/MyDrive/kaggle/santander/data/test_ver2.csv')"
      ],
      "execution_count": 3,
      "outputs": [
        {
          "output_type": "stream",
          "text": [
            "/usr/local/lib/python3.6/dist-packages/IPython/core/interactiveshell.py:2718: DtypeWarning: Columns (5,8,11,15) have mixed types.Specify dtype option on import or set low_memory=False.\n",
            "  interactivity=interactivity, compiler=compiler, result=result)\n",
            "/usr/local/lib/python3.6/dist-packages/IPython/core/interactiveshell.py:2718: DtypeWarning: Columns (15) have mixed types.Specify dtype option on import or set low_memory=False.\n",
            "  interactivity=interactivity, compiler=compiler, result=result)\n"
          ],
          "name": "stderr"
        }
      ]
    },
    {
      "cell_type": "markdown",
      "metadata": {
        "id": "xbaqXER22jsU"
      },
      "source": [
        "### 1-2. 데이터 전처리"
      ]
    },
    {
      "cell_type": "code",
      "metadata": {
        "id": "2YWaXPWE2OlV"
      },
      "source": [
        "# 제품 변수 별도 저장\n",
        "prods = trn.columns[24:].tolist()"
      ],
      "execution_count": 4,
      "outputs": []
    },
    {
      "cell_type": "code",
      "metadata": {
        "id": "RZngYnZA2wME"
      },
      "source": [
        "# 결측치 → 0으로 대체\n",
        "trn[prods] = trn[prods].fillna(0.0).astype(np.int8)"
      ],
      "execution_count": 5,
      "outputs": []
    },
    {
      "cell_type": "code",
      "metadata": {
        "id": "cZAb7uYK3Qhh"
      },
      "source": [
        "# 24개 제품 중 하나도 보유하지 않는 고객 데이터 제거\n",
        "no_product = trn[prods].sum(axis = 1) == 0\n",
        "trn = trn[~no_product]"
      ],
      "execution_count": 6,
      "outputs": []
    },
    {
      "cell_type": "code",
      "metadata": {
        "id": "Ij-NfoEe3fzq"
      },
      "source": [
        "# 훈련 데이터 + 테스트 데이터\n",
        "for col in trn.columns[24:]:\n",
        "  tst[col] = 0\n",
        "df = pd.concat([trn, tst], axis = 0)"
      ],
      "execution_count": 7,
      "outputs": []
    },
    {
      "cell_type": "code",
      "metadata": {
        "id": "fHF-Wer-36Tt"
      },
      "source": [
        "# 학습에 사용할 변수 담을 list 생성\n",
        "features = []"
      ],
      "execution_count": 8,
      "outputs": []
    },
    {
      "cell_type": "code",
      "metadata": {
        "id": "d0VOuICT3-Rf"
      },
      "source": [
        "# 범주형 변수 → .factorize() → 라벨 인코딩\n",
        "categorical_cols = ['ind_empleado', 'pais_residencia', 'sexo', 'tiprel_1mes', 'indresi', 'indext', 'conyuemp', 'canal_entrada', 'indfall', 'tipodom', 'nomprov', 'segmento']\n",
        "for col in categorical_cols:\n",
        "  df[col], _ = df[col].factorize(na_sentinel = -99)\n",
        "\n",
        "features += categorical_cols"
      ],
      "execution_count": 9,
      "outputs": []
    },
    {
      "cell_type": "code",
      "metadata": {
        "id": "6YdzcqAF4vuz"
      },
      "source": [
        "# 수치형 변수 특이값, 결측값 → -99로 대체, 정수형 변환\n",
        "df['age'].replace(' NA', -99, inplace=True)\n",
        "df['age'] = df['age'].astype(np.int8)\n",
        "\n",
        "df['antiguedad'].replace('     NA', -99, inplace=True)\n",
        "df['antiguedad'] = df['antiguedad'].astype(np.int8)\n",
        "\n",
        "df['renta'].replace('         NA', -99, inplace=True)\n",
        "df['renta'].fillna(-99, inplace=True)\n",
        "df['renta'] = df['renta'].astype(float).astype(np.int8)\n",
        "\n",
        "df['indrel_1mes'].replace('P', 5, inplace=True)\n",
        "df['indrel_1mes'].fillna(-99, inplace=True)\n",
        "df['indrel_1mes'] = df['indrel_1mes'].astype(float).astype(np.int8)"
      ],
      "execution_count": 12,
      "outputs": []
    },
    {
      "cell_type": "code",
      "metadata": {
        "id": "589dY2pf5VwB"
      },
      "source": [
        "# 학습에 사용할 수치형 변수를 features에 담기\n",
        "features += ['age','antiguedad','renta','ind_nuevo','indrel','indrel_1mes','ind_actividad_cliente']"
      ],
      "execution_count": 10,
      "outputs": []
    },
    {
      "cell_type": "markdown",
      "metadata": {
        "id": "rgDOY55P5cbG"
      },
      "source": [
        "## 2. 피처 엔지니어링\n",
        "- 고객 변수 24개, 날짜 변수 기반 파생 변수 4개, lag-1 변수 24개\n",
        "- fecha_alta(첫 계약 날짜), ult_fec_cli_1t(마지막으로 1등급이었던 날짜) → 연도, 월 정보 추출\n",
        "- 결측값 → -99로 임시 대체 (xgboost의 경우 결측값 사용이 가능하나, 일단 임시 대체)"
      ]
    },
    {
      "cell_type": "code",
      "metadata": {
        "id": "ngBDqvbB5bzo"
      },
      "source": [
        "# 두 날짜 변수 → 연도, 월 정보 추출\n",
        "df['fecha_alta_month'] = df['fecha_alta'].map(lambda x: 0.0 if x.__class__ is float else float(x.split('-')[1])).astype(np.int8)\n",
        "df['fecha_alta_year'] = df['fecha_alta'].map(lambda x: 0.0 if x.__class__ is float else float(x.split('-')[0])).astype(np.int16)\n",
        "\n",
        "features += ['fecha_alta_month', 'fecha_alta_year']\n",
        "\n",
        "df['ult_fec_cli_1t_month'] = df['ult_fec_cli_1t'].map(lambda x: 0.0 if x.__class__ is float else float(x.split('-')[1])).astype(np.int8)\n",
        "df['ult_fec_cli_1t_year'] = df['ult_fec_cli_1t'].map(lambda x: 0.0 if x.__class__ is float else float(x.split('-')[0])).astype(np.int16)\n",
        "\n",
        "features += ['ult_fec_cli_1t_month', 'ult_fec_cli_1t_year']"
      ],
      "execution_count": 11,
      "outputs": []
    },
    {
      "cell_type": "code",
      "metadata": {
        "id": "dPxyam6I69zL"
      },
      "source": [
        "# 결측값 → -99 대체\n",
        "df.fillna(-99, inplace = True)"
      ],
      "execution_count": 15,
      "outputs": []
    },
    {
      "cell_type": "code",
      "metadata": {
        "id": "BCULj5lh7k4L"
      },
      "source": [
        "# 날짜를 숫자로 변환하는 함수. 2015-01-28은 1, 2016-06-28은 18로 변환\n",
        "def date_to_int(str_date):\n",
        "    Y, M, D = [int(a) for a in str_date.strip().split(\"-\")] \n",
        "    int_date = (int(Y) - 2015) * 12 + int(M)\n",
        "    return int_date"
      ],
      "execution_count": 16,
      "outputs": []
    },
    {
      "cell_type": "code",
      "metadata": {
        "id": "T5lYoaGf7tOn"
      },
      "source": [
        "# 날짜를 숫자로 변환하여 int_date에 저장\n",
        "df['int_date'] = df['fecha_dato'].map(date_to_int).astype(np.int8)"
      ],
      "execution_count": 17,
      "outputs": []
    },
    {
      "cell_type": "code",
      "metadata": {
        "id": "WQQIuoH17wZu"
      },
      "source": [
        "# 데이터 복사, int_date 날짜에 1을 더하여 lag 생성. 변수명에 _prev를 추가.\n",
        "df_lag = df.copy()\n",
        "df_lag.columns = [col + '_prev' if col not in ['ncodpers', 'int_date'] else col for col in df.columns ]\n",
        "df_lag['int_date'] += 1"
      ],
      "execution_count": 16,
      "outputs": []
    },
    {
      "cell_type": "markdown",
      "metadata": {
        "id": "Ja-9RKg4Gxhm"
      },
      "source": [
        "df와 df_lag를 병합하는 과정에서 메모리 사용량이 너무 많아 두 데이터프레임을 따로 저장"
      ]
    },
    {
      "cell_type": "code",
      "metadata": {
        "id": "3tQrttMdBivu"
      },
      "source": [
        "# df.to_csv('/content/drive/MyDrive/kaggle/santander/data/train.csv')"
      ],
      "execution_count": 17,
      "outputs": []
    },
    {
      "cell_type": "code",
      "metadata": {
        "id": "5BKjksPkBoSi"
      },
      "source": [
        "# df_lag.to_csv('/content/drive/MyDrive/kaggle/santander/data/train_lag.csv')"
      ],
      "execution_count": 18,
      "outputs": []
    },
    {
      "cell_type": "markdown",
      "metadata": {
        "id": "CHF-K5SsGmD5"
      },
      "source": [
        "런타임 초기화 후 다시 시작한 뒤, 저장해 놓은 df를 다시 불러옴"
      ]
    },
    {
      "cell_type": "code",
      "metadata": {
        "id": "UyEJ-d7rEWoU"
      },
      "source": [
        "# df = pd.read_csv('/content/drive/MyDrive/kaggle/santander/data/train.csv')"
      ],
      "execution_count": 19,
      "outputs": []
    },
    {
      "cell_type": "markdown",
      "metadata": {
        "id": "o6Za-jkDG5s7"
      },
      "source": [
        "df_lag의 경우, chunksize를 지정해 분할하여 불러온 뒤 차례대로 df와 병합해주는 함수 생성"
      ]
    },
    {
      "cell_type": "code",
      "metadata": {
        "id": "_dWJYggjC9QV"
      },
      "source": [
        "def preprocess(x):\n",
        "  df_trn = pd.merge(df, x, on = ['ncodpers', 'int_date'], how = 'left')\n",
        "  df_trn.to_csv('/content/drive/MyDrive/kaggle/santander/data/df_trn.csv', mode = 'a', header = 'False', index = 'False')"
      ],
      "execution_count": 18,
      "outputs": []
    },
    {
      "cell_type": "code",
      "metadata": {
        "id": "kwZ-JOnmDtNL"
      },
      "source": [
        "reader = pd.read_csv('/content/drive/MyDrive/kaggle/santander/data/train_lag.csv', chunksize = 200000)\n",
        "\n",
        "for r in reader:\n",
        "  preprocess(r)"
      ],
      "execution_count": null,
      "outputs": []
    },
    {
      "cell_type": "markdown",
      "metadata": {
        "id": "EbqZ4gd0Ls0B"
      },
      "source": [
        "(너ㅓㅓㅓㅓㅓㅓㅓㅓㅓㅓㅓ무 오래걸린다)"
      ]
    },
    {
      "cell_type": "code",
      "metadata": {
        "id": "1l4OAySMWK1f"
      },
      "source": [
        "# 메모리 효율을 위한 불필요한 변수 메모리에서 제거\n",
        "# del df, reader\n",
        "del df"
      ],
      "execution_count": null,
      "outputs": []
    },
    {
      "cell_type": "code",
      "metadata": {
        "id": "Zy2RLyQJJhoC"
      },
      "source": [
        "# 저번 달 제품 정보 존재 X → 0으로 대체\n",
        "for prod in prods:\n",
        "  prev = prod + '_prev'\n",
        "  df_trn[prev].fillna(0, inplace = True)\n",
        "df_trn.fillna(-99, inplace = True)"
      ],
      "execution_count": null,
      "outputs": []
    },
    {
      "cell_type": "code",
      "metadata": {
        "id": "cGfHH4t4LwEW"
      },
      "source": [
        "# lag-1 변수 추가\n",
        "features += [feature + '_prev' for feature in features]\n",
        "features += [prod + '_prev' for prod in prods]"
      ],
      "execution_count": null,
      "outputs": []
    },
    {
      "cell_type": "code",
      "metadata": {
        "id": "_cgZo25ILwdD"
      },
      "source": [
        "####\n",
        "# 피처 엔지니어링 추가 부분\n",
        "####"
      ],
      "execution_count": null,
      "outputs": []
    },
    {
      "cell_type": "markdown",
      "metadata": {
        "id": "ItfPgPYaMYRs"
      },
      "source": [
        "## 3. 머신러닝 모델 학습"
      ]
    },
    {
      "cell_type": "markdown",
      "metadata": {
        "id": "YGUSDio5Mc0f"
      },
      "source": [
        "### 3-1. 교차 검증\n"
      ]
    },
    {
      "cell_type": "markdown",
      "metadata": {
        "id": "UxkyrI_RRSxV"
      },
      "source": [
        "캐글 : 하루에 최대 5개의 예측 결과물을 캐글에 제출 할 수 있음   \n",
        "→ 최대한 올바른 교차 검증 과정을 거친 후에 성능 개선 여부를 확인하는 것이 매우 중요   \n",
        "   \n",
        "최신 데이터를 검증 데이터로 분리, 나머지를 훈련 데이터로 사용하여 검증하는 것이 일반적   "
      ]
    },
    {
      "cell_type": "code",
      "metadata": {
        "id": "ed51X2eVNDU3"
      },
      "source": [
        "## 모델 학습\n",
        "# 데이터 → 훈련, 테스트용으로 분리\n",
        "# 훈련: 2016/01/28 ~ 2016/04/28, 검증: 2016/05/28\n",
        "use_dates = ['2016-01-28', '2016-02-28', '2016-03-28', '2016-04-28'] # 기간 설정\n",
        "trn = df_trn[df_trn['fecha_dato'].isin(use_dates)] # 훈련 데이터\n",
        "tst = df_trn[df_trn['fecha_dato'] == '2016-06-28'] # 검증 데이터\n",
        "del df_trn"
      ],
      "execution_count": null,
      "outputs": []
    },
    {
      "cell_type": "code",
      "metadata": {
        "id": "KS1sej9fQN75"
      },
      "source": [
        "# 훈련 데이터 중 신규 구매 건수만 추출\n",
        "X = []\n",
        "Y = []\n",
        "for i, prod in enumerate(prods):\n",
        "  prev = prod + '_prev'\n",
        "  prX = trn[(trn[prod] == 1) & (trn[prev] == 0)]\n",
        "  prY = np.zeros(prX.shape[0], dtype = np.int8) + i\n",
        "  X.append(prX)\n",
        "  Y.append(prY)\n",
        "\n",
        "XY = pd.concat(X)\n",
        "Y = np.hstack(Y)\n",
        "XY['y'] = Y"
      ],
      "execution_count": null,
      "outputs": []
    },
    {
      "cell_type": "code",
      "metadata": {
        "id": "vOILTq8EQQX2"
      },
      "source": [
        "# 데이터 분리\n",
        "vld_date = '2016-05-28'\n",
        "XY_trn = XY[XY['fecha_dato'] != vld_date]\n",
        "XY_vld = XY[XY['fecha_dato'] == vld_date]"
      ],
      "execution_count": null,
      "outputs": []
    },
    {
      "cell_type": "markdown",
      "metadata": {
        "id": "9EThv3TEOXWz"
      },
      "source": [
        "### 3-2. 모델"
      ]
    },
    {
      "cell_type": "markdown",
      "metadata": {
        "id": "qkKGsZXFRQfg"
      },
      "source": [
        "- XGBoost 모델 사용 : 대부분의 캐글 상위 입상자들이 사용하는 모델\n",
        "- XGBoost에서 주로 사용되는 파라미터   \n",
        "1) max_depth: 트리 모델의 최대 깊이   \n",
        "2) eta: 딥러닝에서의 learning rate와 같은 개념. 0과 1 사이의 값. 너무 높으면 학습이 잘 되지 않고, 너무 낮으면 학습이 느릴 수 있음   \n",
        "3) colsample_bytree: 트리 생성 시 훈련 데이터에서 변수를 샘플링해주는 비율. 보통 0.6 ~ 0.9 사용   \n",
        "4) colsample_bylevel: 트리의 레벨 별로 훈련 데이터의 변수를 샘플링해주는 비율. 보통 0.6 ~ 0.9 사용\n",
        "- 엄청난 수준의 피처 엔지니어링 + 적당한 파라미터 튜닝 >>> 적당한 피처 엔지니어링 + 엄청난 수준의 파라미터 튜닝"
      ]
    },
    {
      "cell_type": "code",
      "metadata": {
        "id": "YUJ1nPgYPVh7"
      },
      "source": [
        "## 모델링 과정\n",
        "# 파라미터 설정\n",
        "param = {\n",
        "    'booster': 'gbtree',\n",
        "    'max_depth': 8,\n",
        "    'nthread': 4,\n",
        "    'num_class': len(prods),\n",
        "    'objective': 'multi:softprob',\n",
        "    'silent': 1,\n",
        "    'eval_metric': 'mlogloss',\n",
        "    'eta': 0.1,\n",
        "    'min_child_weight': 10,\n",
        "    'colsample_bytree': 0.8,\n",
        "    'colsample_bylevel': 0.9,\n",
        "    'seed': 2018,\n",
        "    }"
      ],
      "execution_count": null,
      "outputs": []
    },
    {
      "cell_type": "code",
      "metadata": {
        "id": "AlUA3rTUQSY4"
      },
      "source": [
        "# 훈련, 검증 데이터 → XGBoost 형태로 변환\n",
        "X_trn = XY_trn.as_matrix(columns = features)\n",
        "Y_trn = XY_trn.as_matrix(columns = ['y'])\n",
        "dtrn = xgb.DMatrix(X_trn, label = Y_trn, feature_names = features)\n",
        "\n",
        "X_vld = XY_vld.as_matrix(columns = features)\n",
        "Y_vld = XY_vld.as_matrix(columns = ['y'])\n",
        "dvld = xgb.DMatrix(X_vld, label = Y_vld, feature_names = features)"
      ],
      "execution_count": null,
      "outputs": []
    },
    {
      "cell_type": "code",
      "metadata": {
        "id": "A4lejn7OQTTr"
      },
      "source": [
        "# 학습\n",
        "watch_list = [(dtrn, 'train'), (dvld, 'eval')]\n",
        "model = xgb.train(param, dtrn, num_boost_round = 1000, evals = watch_list, early_stopping_rounds = 20)"
      ],
      "execution_count": null,
      "outputs": []
    },
    {
      "cell_type": "code",
      "metadata": {
        "id": "VmNxdOt-Qy88"
      },
      "source": [
        "# 학습한 모델 저장\n",
        "import pickle\n",
        "\n",
        "pickle.dump(model, open('/content/drive/MyDrive/kaggle/santander/data/xgb.baseline.pkl', 'wb'))\n",
        "best_ntree_limit = model.best_ntree_limit"
      ],
      "execution_count": null,
      "outputs": []
    },
    {
      "cell_type": "markdown",
      "metadata": {
        "id": "d7O7U8hvRMGx"
      },
      "source": [
        "### 3-3. 교차 검증"
      ]
    },
    {
      "cell_type": "markdown",
      "metadata": {
        "id": "Po-5dNAzRWmy"
      },
      "source": [
        "평가척도인 MAP@7을 사용하여 성능 수준을 확인   \n",
        "현재 베이스라인 코드에서 받을 수 있는 최고 점수 = 0.042663"
      ]
    },
    {
      "cell_type": "code",
      "metadata": {
        "id": "evyUL0zERUkn"
      },
      "source": [
        "## MAP@7 평가 척도를 위한 준비 작업\n",
        "# 고객 식별 번호 추출\n",
        "vld = trn[trn['fecha_dato'] == vld_date]\n",
        "ncodpers_vld = vld.as_matrix(columns = ['ncodpers'])"
      ],
      "execution_count": null,
      "outputs": []
    },
    {
      "cell_type": "code",
      "metadata": {
        "id": "6FsAfhs0Sogb"
      },
      "source": [
        "# 검증 데이터에서 신규 구매 구하기\n",
        "for prod in prods:\n",
        "  prev = prod + '_prev'\n",
        "  padd = prod + '_add'\n",
        "  vld[padd] = vld[prod] - vld[prev]\n",
        "\n",
        "add_vld = vld.as_matrix(columns = [prod + '_add' for prod in prods])\n",
        "add_vld_list = [list() for i in range(len(ncodpers_vld))]"
      ],
      "execution_count": null,
      "outputs": []
    },
    {
      "cell_type": "code",
      "metadata": {
        "id": "EVz3xm0GSowc"
      },
      "source": [
        "# 고객별 신규 구매 정답값 → add_vld_list에 저장, 총 count → count_vld에 저장\n",
        "count_vld = 0\n",
        "for ncodper in range(len(ncodpers_vld)):\n",
        "  for prod in range(len(prods)):\n",
        "    if add_vld[ncodper, prod] > 0:\n",
        "      add_vld_list[ncodper].append(prod)\n",
        "      count_vld += 1"
      ],
      "execution_count": null,
      "outputs": []
    },
    {
      "cell_type": "code",
      "metadata": {
        "id": "zAOSxdXfSqMg"
      },
      "source": [
        "# 현재 얻을 수 있는 MAP@7 최고점을 미리 계산\n",
        "print(mapk(add_vld_list, add_vld_list, 7, 0.0)) # mapk 함수 사용"
      ],
      "execution_count": null,
      "outputs": []
    },
    {
      "cell_type": "code",
      "metadata": {
        "id": "JlRy4k43Sqf8"
      },
      "source": [
        "# 검증 데이터에 대한 예측 값 계산\n",
        "X_vld = vld.as_matrix(columns = features)\n",
        "Y_vld = vld.as_matrix(columns = ['y'])\n",
        "dvld = xgb.DMatrix(X_vld, label = Y_vld, feature_names = features)\n",
        "preds_vld = model.predict(dvld, ntree_limit = best_ntree_limit)"
      ],
      "execution_count": null,
      "outputs": []
    },
    {
      "cell_type": "code",
      "metadata": {
        "id": "dvwYXI1YSqzT"
      },
      "source": [
        "# 저번 달 보유 제품 → 신규 구매 불가능 → 확률값에서 미리 1을 빼줌\n",
        "preds_vld = preds_vld - vld.as_matrix(columns = [prod + '_prev' for prod in prods])"
      ],
      "execution_count": null,
      "outputs": []
    },
    {
      "cell_type": "code",
      "metadata": {
        "id": "XVW0elrbUnOX"
      },
      "source": [
        "# 검증 데이터 예측 상위 7개 추출\n",
        "result_vld = []\n",
        "for ncodper, pred in zip(ncodpers_vld, preds_vld):\n",
        "  y_prods = [(y, p, ip) for y, p, ip in zip(pred, prods, range(len(prods)))]\n",
        "  y_prods = sorted(y_prods, key = lambda a: a[0], reverse = True)[:7]\n",
        "  result_vld.append([ip for y, p, ip in y_prods])"
      ],
      "execution_count": null,
      "outputs": []
    },
    {
      "cell_type": "code",
      "metadata": {
        "id": "BiPRzd5sUoLy"
      },
      "source": [
        "# 검증 데이터에서의 점수 추출\n",
        "print(mapk(add_vld_list, result_vld, 7, 0.0)) # 0.036466"
      ],
      "execution_count": null,
      "outputs": []
    },
    {
      "cell_type": "markdown",
      "metadata": {
        "id": "g5wbe6gvWQJ0"
      },
      "source": [
        "## 4. 테스트 데이터 예측 및 캐글 업로드\n"
      ]
    },
    {
      "cell_type": "code",
      "metadata": {
        "id": "3JtWkVgXZlLB"
      },
      "source": [
        "# 전체 훈련 데이터로 재학습\n",
        "X_all = XY.as_matrix(columns = features)\n",
        "Y_all = XY.as_matrix(columns = ['y'])\n",
        "dall = xgb.DMatrix(X_all, label = Y_all, feature_names = features)\n",
        "watch_list = [(dall, 'train')]"
      ],
      "execution_count": null,
      "outputs": []
    },
    {
      "cell_type": "code",
      "metadata": {
        "id": "5iKoHAHRZ2Iy"
      },
      "source": [
        "# 트리 개수 → 늘어난 양만큼 비례해서 증가\n",
        "best_ntree_limit = int(best_ntree_limit * (len(XY_trn) + len(XY_vld)) / len(XY_trn))"
      ],
      "execution_count": null,
      "outputs": []
    },
    {
      "cell_type": "code",
      "metadata": {
        "id": "pvkg0IeqaCxU"
      },
      "source": [
        "# 모델 재학습\n",
        "model = xgb.train(param, dall, num_boost_round = best_ntree_limit, evals = watch_list)"
      ],
      "execution_count": null,
      "outputs": []
    },
    {
      "cell_type": "code",
      "metadata": {
        "id": "pzVNSliAaC_p"
      },
      "source": [
        "# 변수 중요도 출력\n",
        "print('Featrue importance')\n",
        "for kv in sorted([(k, v) for k, v in model.get_fscore().items()], key = lambda kv:kv[1], reverse = True):\n",
        "  print(kv)"
      ],
      "execution_count": null,
      "outputs": []
    },
    {
      "cell_type": "code",
      "metadata": {
        "id": "3jomAiNmaDWD"
      },
      "source": [
        "# 테스트 데이터에 대한 예측 값 계산\n",
        "X_tst = tst.as_matrix(columns = features)\n",
        "dtst = xgb.DMatrix(X_test, feature_names = features)\n",
        "preds_tst = model.predict(dtst, ntree_limit = best_ntree_limit)\n",
        "ncodpers_tst = tst.as_matrix(columns = ['ncodpers'])\n",
        "preds_tst = preds_tst - tst.as_matrix(columns = [prod + '_prev' for prod in prods])"
      ],
      "execution_count": null,
      "outputs": []
    },
    {
      "cell_type": "code",
      "metadata": {
        "id": "Clt77_FSa22l"
      },
      "source": [
        "# 제출 파일 생성\n",
        "submit_file = open('/content/drive/MyDrive/kaggle/santander/data/xgb.baseline.2015-06-28', 'w')\n",
        "submit_file.write('ncodpers, added_products\\n')\n",
        "for ncodper, pred in zip(ncodpers_tst, preds_tst):\n",
        "  y_prods = [(y, p, ip) for y, p, ip in zip(pred, prods, range(len(prods)))]\n",
        "  y_prods = [p for y, p, ip in y_prods]\n",
        "  submit_file.write('{}, {}\\n'.format(int(ncodper), ' '.join(y_prods)))"
      ],
      "execution_count": null,
      "outputs": []
    }
  ]
}