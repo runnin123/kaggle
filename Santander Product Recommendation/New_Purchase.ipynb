{
  "nbformat": 4,
  "nbformat_minor": 0,
  "metadata": {
    "colab": {
      "name": "New Purchase.ipynb",
      "provenance": [],
      "collapsed_sections": [],
      "machine_shape": "hm"
    },
    "kernelspec": {
      "name": "python3",
      "display_name": "Python 3"
    }
  },
  "cells": [
    {
      "cell_type": "markdown",
      "metadata": {
        "id": "apM1xtHWxZkw"
      },
      "source": [
        "## 신규 구매 여부 추출"
      ]
    },
    {
      "cell_type": "code",
      "metadata": {
        "id": "UjsOAU8uxIiq"
      },
      "source": [
        "import pandas as pd\n",
        "import numpy as np\n",
        "\n",
        "trn = pd.read_csv('/content/drive/MyDrive/kaggle/santander/data/train_ver2.csv')"
      ],
      "execution_count": 1,
      "outputs": []
    },
    {
      "cell_type": "code",
      "metadata": {
        "id": "z0BrNVQOxmcC"
      },
      "source": [
        "# 상품 변수 추출 후 저장\n",
        "prods = trn.columns[24:].tolist()"
      ],
      "execution_count": 2,
      "outputs": []
    },
    {
      "cell_type": "code",
      "metadata": {
        "id": "TTihAfzgyB6e"
      },
      "source": [
        "# 날짜 → 숫자로 변환(첫 달 = 1, 마지막 달 = 18) 해주는 함수\n",
        "def date_to_int(str_date):\n",
        "  Y, M, D = [int(a) for a in str_date.strip().split(\"-\")]\n",
        "  int_date = (int(Y) - 2015) * 12 + int(M)\n",
        "\n",
        "  return int_date"
      ],
      "execution_count": 3,
      "outputs": []
    },
    {
      "cell_type": "code",
      "metadata": {
        "id": "TRD802a7ybIe"
      },
      "source": [
        "# 함수 적용 후 저장\n",
        "trn['int_date'] = trn['fecha_dato'].map(date_to_int).astype(np.int8)"
      ],
      "execution_count": 4,
      "outputs": []
    },
    {
      "cell_type": "code",
      "metadata": {
        "id": "8ws1dnemzXGK"
      },
      "source": [
        "# 데이터 복사 후, int_date에 1을 더해 lag 생성\n",
        "trn_lag = trn.copy()\n",
        "trn_lag['int_date'] += 1\n",
        "trn_lag.columns = [col + '_prev' if col not in ['ncodpers', 'int_date'] else col for col in trn.columns]"
      ],
      "execution_count": 6,
      "outputs": []
    },
    {
      "cell_type": "code",
      "metadata": {
        "id": "jmgl8pzCzw47"
      },
      "source": [
        "# 원본 데이터와 lag 데이터를 ncodper, int_ date 기준으로 병합\n",
        "# lag 데이터가 1씩 밀려 있으므로 저번 달 제품 정보가 삽입됨\n",
        "df_trn = trn.merge(trn_lag, on=['ncodpers','int_date'], how='left')"
      ],
      "execution_count": 10,
      "outputs": []
    },
    {
      "cell_type": "code",
      "metadata": {
        "id": "XB3nTb2w71hX"
      },
      "source": [
        "# 불필요한 변수 제거\n",
        "del trn, trn_lag"
      ],
      "execution_count": 12,
      "outputs": []
    },
    {
      "cell_type": "code",
      "metadata": {
        "id": "I1uftOD88RRh"
      },
      "source": [
        "# 결측치 값 = 0으로 대체\n",
        "for prod in prods:\n",
        "  prev = prod + '_prev'\n",
        "  df_trn[prev].fillna(0, inplace = True)"
      ],
      "execution_count": 15,
      "outputs": []
    },
    {
      "cell_type": "code",
      "metadata": {
        "id": "1FtnVnhV8cnN"
      },
      "source": [
        "# 원본 데이터에서의 제품 보유 여부 - lag 데이터에서의 제품 보유 여부 비교 → 신규 구매 변수 padd\n",
        "for prod in prods:\n",
        "  padd = prod + '_add'\n",
        "  prev = prod + '_prev'\n",
        "  df_trn[padd] = ((df_trn[prod] == 1) & (df_trn[prev] == 0)).astype(np.int8)"
      ],
      "execution_count": 16,
      "outputs": []
    },
    {
      "cell_type": "code",
      "metadata": {
        "id": "WECrufI49K_G"
      },
      "source": [
        "# 신규 구매 변수 추출 후 저장\n",
        "add_cols = [prod + '_add' for prod in prods]\n",
        "labels = df_trn[add_cols].copy()\n",
        "labels.columns = prods\n",
        "\n",
        "labels.to_csv('/content/drive/MyDrive/kaggle/santander/data/labels.csv', index = False)"
      ],
      "execution_count": 17,
      "outputs": []
    }
  ]
}