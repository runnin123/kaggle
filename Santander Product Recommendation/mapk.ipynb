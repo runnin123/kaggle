{
  "nbformat": 4,
  "nbformat_minor": 0,
  "metadata": {
    "colab": {
      "name": "mapk.ipynb",
      "provenance": [],
      "collapsed_sections": []
    },
    "kernelspec": {
      "name": "python3",
      "display_name": "Python 3"
    }
  },
  "cells": [
    {
      "cell_type": "markdown",
      "metadata": {
        "id": "bigTH9XscGaT"
      },
      "source": [
        "MAP@7 평가 척도를 구하기 위한 코드"
      ]
    },
    {
      "cell_type": "code",
      "metadata": {
        "id": "RRNPQDeMcBYZ"
      },
      "source": [
        "import numpy as np"
      ],
      "execution_count": 1,
      "outputs": []
    },
    {
      "cell_type": "code",
      "metadata": {
        "id": "g5VXCYN2cFfG"
      },
      "source": [
        "def apk(actual, predicted, k = 7, default = 0.0):\n",
        "  # 7개 예측값만 채점하므로 최대 7개만 사용\n",
        "  if len(predicted) > k:\n",
        "    predicted = predicted[:k]\n",
        "\n",
        "  score = 0.0\n",
        "  num_hits = 0.0\n",
        "\n",
        "  for i, p in enumerate(predicted):\n",
        "    # 예측 값이 정답에 있고, 중복이 아닐 경우\n",
        "    if p in actual and p not in predicted[:i]:\n",
        "      num_hits += 1.0\n",
        "      score += num_hits / (i + 1.0)\n",
        "\n",
        "  # 정답 값이 공백일 경우 무조건 0.0 반환\n",
        "  if not actual:\n",
        "    return default\n",
        "\n",
        "  # 정답 개수 → average precision을 구함\n",
        "  return score / min(len(actual), k)\n",
        "\n",
        "def mapk(actual,predicted, k = 7, default = 0.0):\n",
        "  # 정답 값과 예측 값에서 고객별 average precision을 구한 뒤, np.mean() 이용해 평균 계산\n",
        "  return np.mean([apk(a, p, k, default) for a, p in zip(actual, predicted)])"
      ],
      "execution_count": null,
      "outputs": []
    }
  ]
}